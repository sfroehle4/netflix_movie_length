{
 "cells": [
  {
   "cell_type": "code",
   "execution_count": null,
   "metadata": {},
   "outputs": [],
   "source": [
    "# Importing pandas and matplotlib\n",
    "import pandas as pd\n",
    "import matplotlib.pyplot as plt\n",
    "\n",
    "# Load the CSV file\n",
    "netflix_df = pd.read_csv(\"netflix_data.csv\")\n",
    "\n",
    "# Drop \"TV Show\" from \"types\" column\n",
    "netflix_subset = netflix_df.drop(netflix_df[netflix_df['type']==\"TV Show\"].index) #drop TV Show from \"type\"\n",
    "netflix_subset['type'].unique() #confirm TV Show has been dropped\n",
    "\n",
    "# Isolate necessary columns\n",
    "netflix_movies = netflix_subset[['title', 'country', 'genre', 'release_year', 'duration']]\n",
    "\n",
    "# Create a for loop that iterrates through each row and assigns a color based on movie genre\n",
    "colors = [] #create an empty list\n",
    "for label, row in netflix_movies.iterrows():\n",
    "    if row['genre'] == 'Children':\n",
    "        colors.append('blue')\n",
    "    elif row['genre'] == 'Documentaries':\n",
    "        colors.append('green')\n",
    "    elif row['genre'] == 'Stand-Up':\n",
    "        colors.append('orange')\n",
    "    else:\n",
    "        colors.append('purple')\n",
    "       \n",
    "# Inspect the first 10\n",
    "colors[:10]\n",
    "       \n",
    "# Initialize a figure object and create a scatter plot for movie duration by release year\n",
    "fig = plt.figure(figsize= (12, 8))\n",
    "plt.scatter(netflix_movies['release_year'], netflix_movies['duration'], c= colors)\n",
    "plt.title('Movie Duration by Year of Release')\n",
    "plt.xlabel('Release year')\n",
    "plt.ylabel('Duration (min)')\n",
    "\n",
    "# Show the scatterplot\n",
    "plt.show()\n",
    "\n",
    "# Are we certain that movies are getting shorter?\n",
    "answer = \"maybe\"\n"
   ]
  }
 ],
 "metadata": {
  "language_info": {
   "name": "python"
  }
 },
 "nbformat": 4,
 "nbformat_minor": 2
}
